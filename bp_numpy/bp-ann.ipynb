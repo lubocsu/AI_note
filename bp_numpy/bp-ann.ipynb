{
 "cells": [
  {
   "cell_type": "code",
   "execution_count": 3,
   "metadata": {},
   "outputs": [
    {
     "data": {
      "text/plain": [
       "19"
      ]
     },
     "execution_count": 3,
     "metadata": {},
     "output_type": "execute_result"
    }
   ],
   "source": [
    "import numpy as np \n",
    "import matplotlib.pyplot as plt\n",
    "# Input data files are available in the \"../input/\" directory.\n",
    "# For example, running this (by clicking run or pressing Shift+Enter) will list the files in the input directory\n",
    "%matplotlib inline\n",
    "import gc\n",
    "gc.collect()"
   ]
  },
  {
   "cell_type": "code",
   "execution_count": 4,
   "metadata": {},
   "outputs": [],
   "source": [
    "#导入数据集\n",
    "import scipy.io as scio\n",
    "dataFile = './lms.mat'\n",
    "data = scio.loadmat(dataFile)"
   ]
  },
  {
   "cell_type": "code",
   "execution_count": 5,
   "metadata": {},
   "outputs": [],
   "source": [
    "'''\n",
    "得出X,Y值\n",
    "'''\n",
    "x = data['X'] \n",
    "y = data['y']"
   ]
  },
  {
   "cell_type": "code",
   "execution_count": 6,
   "metadata": {},
   "outputs": [
    {
     "data": {
      "text/plain": [
       "array([10], dtype=uint8)"
      ]
     },
     "execution_count": 6,
     "metadata": {},
     "output_type": "execute_result"
    }
   ],
   "source": [
    "#看一下对不对\n",
    "y[0]"
   ]
  },
  {
   "cell_type": "code",
   "execution_count": 7,
   "metadata": {},
   "outputs": [
    {
     "data": {
      "text/plain": [
       "(5000, 400)"
      ]
     },
     "execution_count": 7,
     "metadata": {},
     "output_type": "execute_result"
    }
   ],
   "source": [
    "#看一下维度\n",
    "x.shape"
   ]
  },
  {
   "cell_type": "code",
   "execution_count": 8,
   "metadata": {},
   "outputs": [
    {
     "data": {
      "text/plain": [
       "(5000, 1)"
      ]
     },
     "execution_count": 8,
     "metadata": {},
     "output_type": "execute_result"
    }
   ],
   "source": [
    "y.shape"
   ]
  },
  {
   "cell_type": "code",
   "execution_count": 9,
   "metadata": {},
   "outputs": [],
   "source": [
    "# 切分训练集测试集\n",
    "indices = np.random.permutation(x.shape[0])\n",
    "valid_cnt = int(x.shape[0] * 0.3)#可自行修改比例\n",
    "test_idx,training_idx=indices[:valid_cnt],indices[valid_cnt:]\n",
    "x_test, x_train = x[test_idx,:], x[training_idx,:]\n",
    "y_test, y_train = y[test_idx,:], y[training_idx,:]\n"
   ]
  },
  {
   "cell_type": "code",
   "execution_count": 10,
   "metadata": {},
   "outputs": [
    {
     "data": {
      "text/plain": [
       "<matplotlib.image.AxesImage at 0x11197fa20>"
      ]
     },
     "execution_count": 10,
     "metadata": {},
     "output_type": "execute_result"
    },
    {
     "data": {
      "image/png": "[encoded data removed]",
      "text/plain": [
       "<Figure size 432x288 with 1 Axes>"
      ]
     },
     "metadata": {
      "needs_background": "light"
     },
     "output_type": "display_data"
    }
   ],
   "source": [
    "plt.imshow(x_train[0].reshape(20, 20))"
   ]
  },
  {
   "cell_type": "code",
   "execution_count": 11,
   "metadata": {},
   "outputs": [],
   "source": [
    "#因原标签10对应图片数字0，现将其转化为标签0\n",
    "#转为0-9\n",
    "for i in range(len(y_train)):\n",
    "    if y_train[i, 0] == 10:\n",
    "        y_train[i, 0] = 0\n",
    "        \n",
    "#转为0-9\n",
    "for i in range(len(y_test)):\n",
    "    if y_test[i, 0] == 10:\n",
    "        y_test[i, 0] = 0\n",
    "y_train = np.transpose(y_train)[0]\n",
    "y_test = np.transpose(y_test)[0]"
   ]
  },
  {
   "cell_type": "code",
   "execution_count": 12,
   "metadata": {},
   "outputs": [],
   "source": [
    "'''\n",
    "对y值进行one-hot编码，更适合后续sigmoid激活函数输出以及分类\n",
    "'''\n",
    "test_labels=[0,1,2,3,4,5,6,7,8,9]\n",
    "adata_train=np.array(y_train)\n",
    "adata_test=np.array(y_test)\n",
    "def make_one_hot(data1):\n",
    "    return (np.arange(10)==data1[:,None]).astype(np.integer)\n",
    "\n",
    "y_train =make_one_hot(adata_train)   #(3500,10)\n",
    "y_test =make_one_hot(adata_test)    #(1500,10)"
   ]
  },
  {
   "cell_type": "code",
   "execution_count": 13,
   "metadata": {},
   "outputs": [
    {
     "data": {
      "text/plain": [
       "(3500, 10)"
      ]
     },
     "execution_count": 13,
     "metadata": {},
     "output_type": "execute_result"
    }
   ],
   "source": [
    "y_train.shape"
   ]
  },
  {
   "cell_type": "code",
   "execution_count": 14,
   "metadata": {},
   "outputs": [
    {
     "data": {
      "text/plain": [
       "(3500, 400)"
      ]
     },
     "execution_count": 14,
     "metadata": {},
     "output_type": "execute_result"
    }
   ],
   "source": [
    "x_train.shape"
   ]
  },
  {
   "cell_type": "code",
   "execution_count": 15,
   "metadata": {},
   "outputs": [
    {
     "data": {
      "text/plain": [
       "'\\nx train:  (400, 3500)\\nx test:  (400, 1500)\\ny train:  (10, 3500)\\ny test:  (10, 1500)\\n'"
      ]
     },
     "execution_count": 15,
     "metadata": {},
     "output_type": "execute_result"
    }
   ],
   "source": [
    "#对数据集进行转置，以适应神经网络输入输出.\n",
    "x_train = x_train.T    \n",
    "x_test = x_test.T\n",
    "y_train = y_train.T\n",
    "y_test = y_test.T\n",
    "'''\n",
    "x train:  (400, 3500)\n",
    "x test:  (400, 1500)\n",
    "y train:  (10, 3500)\n",
    "y test:  (10, 1500)\n",
    "'''"
   ]
  },
  {
   "cell_type": "code",
   "execution_count": 16,
   "metadata": {},
   "outputs": [
    {
     "name": "stdout",
     "output_type": "stream",
     "text": [
      "Cost after iteration 0: 0.720286\n",
      "Cost after iteration 100: 0.462561\n",
      "Cost after iteration 200: 0.307282\n",
      "Cost after iteration 300: 0.243103\n",
      "Cost after iteration 400: 0.203756\n",
      "Cost after iteration 500: 0.175334\n",
      "Cost after iteration 600: 0.153462\n",
      "Cost after iteration 700: 0.135894\n",
      "Cost after iteration 800: 0.121733\n",
      "Cost after iteration 900: 0.110062\n",
      "Cost after iteration 1000: 0.100199\n",
      "Cost after iteration 1100: 0.091752\n",
      "Cost after iteration 1200: 0.084478\n",
      "Cost after iteration 1300: 0.078173\n",
      "Cost after iteration 1400: 0.072647\n",
      "Cost after iteration 1500: 0.067750\n",
      "Cost after iteration 1600: 0.063376\n",
      "Cost after iteration 1700: 0.059441\n",
      "Cost after iteration 1800: 0.055884\n",
      "Cost after iteration 1900: 0.052660\n"
     ]
    },
    {
     "data": {
      "image/png": "[encoded data removed]",
      "text/plain": [
       "<Figure size 432x288 with 1 Axes>"
      ]
     },
     "metadata": {
      "needs_background": "light"
     },
     "output_type": "display_data"
    },
    {
     "name": "stdout",
     "output_type": "stream",
     "text": [
      "train accuracy: 98.22857142857143 %\n",
      "test accuracy: 69.13333333333333 %\n"
     ]
    }
   ],
   "source": [
    "#定义激活函数sigmoid\n",
    "def sigmoid(z):\n",
    "    y_head = 1/(1+np.exp(-z))\n",
    "    return y_head\n",
    "\n",
    "#初始化参数并定义层\n",
    "def initialize_parameters_and_layer_sizes_NN(x_train, y_train):\n",
    "    parameters = {\"weight1\": np.random.randn(25,x_train.shape[0]) * 0.1,      \n",
    "                  \"bias1\": np.zeros((25,1)),\n",
    "                  \"weight2\": np.random.randn(y_train.shape[0], 25) * 0.1,\n",
    "                  \"bias2\": np.zeros((y_train.shape[0],1))}\n",
    "    return parameters\n",
    "def forward_propagation_NN(x_train, parameters):\n",
    "\n",
    "    Z1 = np.dot(parameters[\"weight1\"],x_train) +parameters[\"bias1\"]   #(25, 400) (400，3500)  -->(25, 3500)\n",
    "    A1 = np.tanh(Z1)\n",
    "    Z2 = np.dot(parameters[\"weight2\"],A1) + parameters[\"bias2\"]  # (10, 25) (25, 3500)\n",
    "    A2 = sigmoid(Z2)          #(10, 3500)  #表示每一个输入对应10个标签中每个标签0-1的可能性，可能性最大的就是预测的标签值。\n",
    "    cache = {\"Z1\": Z1,\n",
    "             \"A1\": A1,\n",
    "             \"Z2\": Z2,\n",
    "             \"A2\": A2}\n",
    "    \n",
    "    return A2, cache\n",
    "\n",
    "# 计算损失，这里采用交叉熵损失\n",
    "def compute_cost_NN(A2, Y, parameters):\n",
    "    logprobs = np.multiply(np.log(A2),Y)\n",
    "    cost = -np.sum(logprobs)/Y.shape[1]\n",
    "    return cost\n",
    "\n",
    "# 反向传播\n",
    "def backward_propagation_NN(parameters, cache, X, Y):\n",
    "\n",
    "    dZ2 = cache[\"A2\"]-Y\n",
    "    dW2 = np.dot(dZ2,cache[\"A1\"].T)/X.shape[1]\n",
    "    db2 = np.sum(dZ2,axis =1,keepdims=True)/X.shape[1]\n",
    "    dZ1 = np.dot(parameters[\"weight2\"].T,dZ2)*(1 - np.power(cache[\"A1\"], 2))\n",
    "    dW1 = np.dot(dZ1,X.T)/X.shape[1]\n",
    "    db1 = np.sum(dZ1,axis =1,keepdims=True)/X.shape[1]\n",
    "    grads = {\"dweight1\": dW1,\n",
    "             \"dbias1\": db1,\n",
    "             \"dweight2\": dW2,\n",
    "             \"dbias2\": db2}\n",
    "    return grads\n",
    "\n",
    "# 更新参数\n",
    "def update_parameters_NN(parameters, grads, learning_rate = 0.5):     #learning_rate学习率\n",
    "    parameters = {\"weight1\": parameters[\"weight1\"]-learning_rate*grads[\"dweight1\"],\n",
    "                  \"bias1\": parameters[\"bias1\"]-learning_rate*grads[\"dbias1\"],\n",
    "                  \"weight2\": parameters[\"weight2\"]-learning_rate*grads[\"dweight2\"],\n",
    "                  \"bias2\": parameters[\"bias2\"]-learning_rate*grads[\"dbias2\"]}\n",
    "    \n",
    "    return parameters\n",
    "\n",
    "# 根据（10, 3500) ， 得出最终预测标签值\n",
    "def predict_NN(parameters,x_test):\n",
    "    A2, cache = forward_propagation_NN(x_test,parameters)\n",
    "    Y_prediction = np.argmax(A2, axis=0)   #(1, 3500) \n",
    "    \n",
    "    return Y_prediction\n",
    "\n",
    "\n",
    "# 3层神经网络\n",
    "def two_layer_neural_network(x_train, y_train,x_test, y_test, num_iterations):\n",
    "    cost_list = []\n",
    "    index_list = []\n",
    "    #i初始化权值\n",
    "    parameters = initialize_parameters_and_layer_sizes_NN(x_train, y_train)\n",
    "\n",
    "    for i in range(0, num_iterations):\n",
    "         # 前向传播\n",
    "        A2, cache = forward_propagation_NN(x_train,parameters)\n",
    "        # 计算损失\n",
    "        cost = compute_cost_NN(A2, y_train, parameters)\n",
    "         # 反向传播\n",
    "        grads = backward_propagation_NN(parameters, cache, x_train, y_train)\n",
    "         # 更新参数\n",
    "        parameters = update_parameters_NN(parameters, grads)\n",
    "        # 打印损失值\n",
    "        if i % 100 == 0:\n",
    "            cost_list.append(cost)\n",
    "            index_list.append(i)\n",
    "            print (\"Cost after iteration %i: %f\" %(i, cost))\n",
    "    #作出损失曲线\n",
    "    plt.plot(index_list,cost_list)\n",
    "    plt.xticks(index_list,rotation='vertical')\n",
    "    plt.xlabel(\"Number of Iterarion\")\n",
    "    plt.ylabel(\"Cost\")\n",
    "    plt.show()\n",
    "    \n",
    "    # 在测试集上进行验证\n",
    "    y_prediction_test = predict_NN(parameters,x_test)\n",
    "    y_prediction_train = predict_NN(parameters,x_train)\n",
    "\n",
    "    #打印准确率\n",
    "    print(\"train accuracy: {} %\".format(100 - np.mean(np.abs(y_prediction_train - np.argmax(y_train, axis=0)) * 100)))\n",
    "    print(\"test accuracy: {} %\".format(100 - np.mean(np.abs(y_prediction_test - np.argmax(y_test, axis=0)) * 100)))\n",
    "    return parameters\n",
    "\n",
    "\n",
    "#主函数\n",
    "parameters = two_layer_neural_network(x_train, y_train, x_test, y_test, num_iterations=2000)\n",
    "\n"
   ]
  },
  {
   "cell_type": "code",
   "execution_count": null,
   "metadata": {},
   "outputs": [],
   "source": []
  }
 ],
 "metadata": {
  "kernelspec": {
   "display_name": "Python 3",
   "language": "python",
   "name": "python3"
  },
  "language_info": {
   "codemirror_mode": {
    "name": "ipython",
    "version": 3
   },
   "file_extension": ".py",
   "mimetype": "text/x-python",
   "name": "python",
   "nbconvert_exporter": "python",
   "pygments_lexer": "ipython3",
   "version": "3.6.0"
  }
 },
 "nbformat": 4,
 "nbformat_minor": 2
}
